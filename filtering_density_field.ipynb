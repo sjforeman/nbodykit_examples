{
 "cells": [
  {
   "cell_type": "markdown",
   "metadata": {},
   "source": [
    "# Filtering a density field with ``nbodykit``"
   ]
  },
  {
   "cell_type": "code",
   "execution_count": 2,
   "metadata": {},
   "outputs": [],
   "source": [
    "%load_ext autoreload\n",
    "%autoreload 2\n",
    "import numpy as np\n",
    "from scipy.interpolate import interp1d\n",
    "import matplotlib.pyplot as plt\n",
    "%matplotlib inline\n",
    "\n",
    "import nbodykit.lab as nbk"
   ]
  },
  {
   "cell_type": "markdown",
   "metadata": {},
   "source": [
    "## Definitions for cosmology and sims"
   ]
  },
  {
   "cell_type": "code",
   "execution_count": 3,
   "metadata": {},
   "outputs": [
    {
     "name": "stdout",
     "output_type": "stream",
     "text": [
      "k_f for Lbox = 1000 is 0.00628318530718\n"
     ]
    }
   ],
   "source": [
    "# Define box size (in h/Mpc) and fundamental mode\n",
    "Lbox = 1000\n",
    "kf = 2*np.pi/Lbox\n",
    "print('k_f for Lbox = ' + str(Lbox) + ' is ' + str(kf))"
   ]
  },
  {
   "cell_type": "code",
   "execution_count": 4,
   "metadata": {},
   "outputs": [],
   "source": [
    "# Define a LCDM linear power spectrum\n",
    "redshift = 0\n",
    "cosmo = nbk.cosmology.Planck15\n",
    "Plin = nbk.cosmology.LinearPower(cosmo, redshift, transfer='EisensteinHu')"
   ]
  },
  {
   "cell_type": "code",
   "execution_count": 5,
   "metadata": {},
   "outputs": [],
   "source": [
    "# Set up parameters for Gaussian realization(s). \n",
    "# kmin and dk are values we'll use for power spectrum binning.\n",
    "seed0 = 1\n",
    "Nmesh = 128\n",
    "kmin = kf*0.5\n",
    "dk = kf"
   ]
  },
  {
   "cell_type": "markdown",
   "metadata": {},
   "source": [
    "## Filtering density field with isotropic filter"
   ]
  },
  {
   "cell_type": "code",
   "execution_count": 6,
   "metadata": {},
   "outputs": [],
   "source": [
    "# Example filter: Gaussian in k, for simplicity\n",
    "def W(k,k0):\n",
    "    return np.exp(-k**2./k0**2.)"
   ]
  },
  {
   "cell_type": "code",
   "execution_count": 10,
   "metadata": {},
   "outputs": [],
   "source": [
    "# Routine that takes a mesh and returns a filtered copy.\n",
    "# For discussion, see the nbodykit documentation at\n",
    "#    https://nbodykit.readthedocs.io/en/latest/mesh/common-operations.html?highlight=apply .\n",
    "# An anisotropic filter would take more work to implement\n",
    "def filter_mesh(mesh,k0):\n",
    "    # Function to feed to \"mesh.apply\"\n",
    "    def filter(k,v):\n",
    "        # Compute |\\vec{k}| values on the mesh                                                                                                          \n",
    "        kk = sum(ki ** 2. for ki in k)**0.5\n",
    "        # Compute W(|\\vec{k}|) values on the mesh\n",
    "        W_mesh = W(kk,k0)\n",
    "        # Multiply original mesh values by filter\n",
    "        return v * W_mesh\n",
    "    \n",
    "    # Make local copy of mesh with filter applied\n",
    "    mesh_copy = mesh.apply(filter,mode='complex',kind='wavenumber')\n",
    "    \n",
    "    return mesh_copy"
   ]
  },
  {
   "cell_type": "code",
   "execution_count": 14,
   "metadata": {},
   "outputs": [],
   "source": [
    "# Generating Gaussian realization and measuring power spectrum\n",
    "lcdm_mesh = nbk.LinearMesh(Plin, Nmesh=Nmesh, BoxSize=Lbox, seed=seed0)\n",
    "lcdm_r = nbk.FFTPower(lcdm_mesh, mode='1d', dk=dk, kmin=kmin)\n",
    "Pk_lcdm = lcdm_r.power"
   ]
  },
  {
   "cell_type": "code",
   "execution_count": 29,
   "metadata": {},
   "outputs": [],
   "source": [
    "# Filtering realization and measuring power spectrum\n",
    "lcdm_filt_mesh = filter_mesh(lcdm_mesh,0.3)\n",
    "lcdm_filt_r = nbk.FFTPower(lcdm_filt_mesh, mode='1d', dk=dk, kmin=kmin)\n",
    "Pk_lcdm_filt = lcdm_filt_r.power"
   ]
  },
  {
   "cell_type": "code",
   "execution_count": 48,
   "metadata": {},
   "outputs": [
    {
     "data": {
      "image/png": "[encoded data removed]",
      "text/plain": [
       "<Figure size 432x288 with 1 Axes>"
      ]
     },
     "metadata": {
      "needs_background": "light"
     },
     "output_type": "display_data"
    }
   ],
   "source": [
    "# Plotting measured power spectra\n",
    "plt.loglog(Pk_lcdm['k'],Pk_lcdm['power'],'.',label='measured - unfiltered')\n",
    "plt.loglog(Pk_lcdm_filt['k'],Pk_lcdm_filt['power'],'.',label='measured - filtered')\n",
    "\n",
    "plt.loglog(Pk_lcdm['k'],Plin(Pk_lcdm['k']),'-',color='black',label='prediction - unfiltered')\n",
    "plt.loglog(Pk_lcdm['k'],Plin(Pk_lcdm['k'])*W(Pk_lcdm['k'],0.3)**2,'-',color='red',\n",
    "          label='prediction - filtered')\n",
    "\n",
    "plt.xlabel('k [h/Mpc]',size=14);\n",
    "plt.ylabel(r'$P(k)\\; [h^{-3} {\\rm Mpc}^3]$',size=14);\n",
    "plt.legend();"
   ]
  },
  {
   "cell_type": "code",
   "execution_count": null,
   "metadata": {},
   "outputs": [],
   "source": []
  }
 ],
 "metadata": {
  "kernelspec": {
   "display_name": "Python 2",
   "language": "python",
   "name": "python2"
  },
  "language_info": {
   "codemirror_mode": {
    "name": "ipython",
    "version": 2
   },
   "file_extension": ".py",
   "mimetype": "text/x-python",
   "name": "python",
   "nbconvert_exporter": "python",
   "pygments_lexer": "ipython2",
   "version": "2.7.15"
  }
 },
 "nbformat": 4,
 "nbformat_minor": 2
}
